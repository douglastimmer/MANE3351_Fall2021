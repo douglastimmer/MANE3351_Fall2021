{
 "cells": [
  {
   "cell_type": "markdown",
   "metadata": {},
   "source": [
    "### Secant Method\n",
    "\n"
   ]
  },
  {
   "cell_type": "code",
   "execution_count": 9,
   "metadata": {},
   "outputs": [
    {
     "name": "stdout",
     "output_type": "stream",
     "text": [
      "the root is 8.662482018721125 with value 5.470137764973515e-08, required 5 steps\n",
      "completed\n"
     ]
    }
   ],
   "source": [
    "import math\n",
    "def f(x):\n",
    "    return (2.0*math.log(x**2+1)-x)\n",
    "\n",
    "N=100\n",
    "tol=0.0005\n",
    "x0=5\n",
    "x1=6\n",
    "# step 1\n",
    "y0=f(x0)\n",
    "y1=f(x1)\n",
    "# counter is additional\n",
    "counter=0\n",
    "for j in range(N+1):\n",
    "    counter=counter+1\n",
    "    # step 3\n",
    "    #print(\"x0={}, x1={}, y0={},y1={}\".format(x0,x1,y0,y1))\n",
    "    x=x1-y1*((x1-x0)/(y1-y0))\n",
    "    #print(\"j={},x={}\".format(j+2,x))\n",
    "    if math.fabs(x-x1)<tol:\n",
    "        print(\"the root is {} with value {}, required {} steps\".format(x,f(x),counter))\n",
    "        break\n",
    "    # step 5\n",
    "    x0=x1\n",
    "    y0=y1\n",
    "    x1=x\n",
    "    y1=f(x1)\n",
    "print(\"completed\")"
   ]
  },
  {
   "cell_type": "code",
   "execution_count": null,
   "metadata": {},
   "outputs": [],
   "source": []
  },
  {
   "cell_type": "code",
   "execution_count": null,
   "metadata": {},
   "outputs": [],
   "source": []
  }
 ],
 "metadata": {
  "kernelspec": {
   "display_name": "Python 3",
   "language": "python",
   "name": "python3"
  },
  "language_info": {
   "codemirror_mode": {
    "name": "ipython",
    "version": 3
   },
   "file_extension": ".py",
   "mimetype": "text/x-python",
   "name": "python",
   "nbconvert_exporter": "python",
   "pygments_lexer": "ipython3",
   "version": "3.8.5"
  }
 },
 "nbformat": 4,
 "nbformat_minor": 2
}
