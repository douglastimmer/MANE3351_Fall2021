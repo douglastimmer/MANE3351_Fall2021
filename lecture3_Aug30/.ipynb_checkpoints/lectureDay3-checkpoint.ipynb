{
 "cells": [
  {
   "cell_type": "markdown",
   "metadata": {},
   "source": [
    "# Standard Normal Case 1\n",
    "This application calculates the probability $P(Z<a)$ for the standard normal distribution."
   ]
  },
  {
   "cell_type": "code",
   "execution_count": 1,
   "metadata": {},
   "outputs": [
    {
     "name": "stdout",
     "output_type": "stream",
     "text": [
      "<class 'float'>\n"
     ]
    },
    {
     "data": {
      "image/png": "[encoded data removed]",
      "text/plain": [
       "<Figure size 432x288 with 1 Axes>"
      ]
     },
     "metadata": {
      "needs_background": "light"
     },
     "output_type": "display_data"
    },
    {
     "name": "stdout",
     "output_type": "stream",
     "text": [
      "0.815940\n"
     ]
    }
   ],
   "source": [
    "import matplotlib.pyplot as plt\n",
    "import numpy as np\n",
    "import scipy.stats as sct\n",
    "import math\n",
    "\n",
    "a=0.9\n",
    "\n",
    "print(type(a))\n",
    "\n",
    "x=np.linspace(-4,4,500)\n",
    "y=sct.norm.pdf(x,0,1)\n",
    "y2=0.0*x\n",
    "maske =(x<a)\n",
    "\n",
    "plt.plot(x,y,'b')\n",
    "plt.fill_between(x,y,color='#666666',where=maske)\n",
    "plt.plot(x,y2,'b')\n",
    "plt.show()\n",
    "\n",
    "answer=sct.norm.cdf(a,0,1)\n",
    "print (\"%8.6f\" % (answer))"
   ]
  },
  {
   "cell_type": "code",
   "execution_count": 2,
   "metadata": {},
   "outputs": [
    {
     "name": "stdout",
     "output_type": "stream",
     "text": [
      "[-4. -2.  0.  2.  4.]\n"
     ]
    }
   ],
   "source": [
    "import numpy as np\n",
    "x=np.linspace(-4,4,5)\n",
    "\n",
    "print(x)"
   ]
  },
  {
   "cell_type": "code",
   "execution_count": 3,
   "metadata": {},
   "outputs": [
    {
     "name": "stdout",
     "output_type": "stream",
     "text": [
      "inside loop:  -4.0\n",
      "inside loop:  -2.0\n",
      "inside loop:  0.0\n",
      "inside loop:  2.0\n",
      "inside loop:  4.0\n",
      "[-4. -2.  0.  2.  4.]\n"
     ]
    }
   ],
   "source": [
    "import numpy as np\n",
    "\n",
    "low=-4.0\n",
    "high=4.0\n",
    "size=5\n",
    "\n",
    "StepSize=(high-low)/(size-1)\n",
    "\n",
    "y=np.zeros(size)\n",
    "\n",
    "# arrays start with an index of 0\n",
    "\n",
    "j=0\n",
    "for i in np.nditer(y):\n",
    "    y[j]=low+j*StepSize\n",
    "    print(\"inside loop: \",y[j])\n",
    "    j=j+1\n",
    "print(y)\n",
    "\n",
    "# want array z from -3 to +3 with 10 steps\n",
    "# change low, high, size\n",
    "# copy code z=np.zeros(size)\n",
    "# copy loop"
   ]
  },
  {
   "cell_type": "code",
   "execution_count": 4,
   "metadata": {},
   "outputs": [
    {
     "name": "stdout",
     "output_type": "stream",
     "text": [
      "[-4. -2.  0.  2.  4.]\n"
     ]
    }
   ],
   "source": [
    "import numpy as np\n",
    "def LinearSpacing(low,high,size):\n",
    "        StepSize=(high-low)/(size-1)\n",
    "        j=0\n",
    "        y=np.zeros(size)\n",
    "        for i in np.nditer(y):\n",
    "            y[j]=low+j*StepSize\n",
    "            j=j+1\n",
    "        return y\n",
    "print(LinearSpacing(-4,4,5))"
   ]
  },
  {
   "cell_type": "code",
   "execution_count": 5,
   "metadata": {},
   "outputs": [
    {
     "name": "stdout",
     "output_type": "stream",
     "text": [
      "[-4. -2.  0.  2.  4.]\n",
      "2.0\n"
     ]
    }
   ],
   "source": [
    "import numpy as np\n",
    "\n",
    "y,sSize = np.linspace(-4,4,5,retstep=True)\n",
    "\n",
    "print(y)\n",
    "\n",
    "print(sSize)\n",
    "\n",
    "\n",
    "\n",
    "\n",
    "\n"
   ]
  }
 ],
 "metadata": {
  "kernelspec": {
   "display_name": "Python 3",
   "language": "python",
   "name": "python3"
  },
  "language_info": {
   "codemirror_mode": {
    "name": "ipython",
    "version": 3
   },
   "file_extension": ".py",
   "mimetype": "text/x-python",
   "name": "python",
   "nbconvert_exporter": "python",
   "pygments_lexer": "ipython3",
   "version": "3.7.3"
  }
 },
 "nbformat": 4,
 "nbformat_minor": 2
}
