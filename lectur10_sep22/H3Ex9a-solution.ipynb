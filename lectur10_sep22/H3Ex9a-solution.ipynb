{
 "cells": [
  {
   "cell_type": "markdown",
   "metadata": {},
   "source": [
    "# Newton Raphson Method\n",
    "## Homework 3, Exercise 9, part a"
   ]
  },
  {
   "cell_type": "code",
   "execution_count": 7,
   "metadata": {},
   "outputs": [
    {
     "name": "stdout",
     "output_type": "stream",
     "text": [
      "x=11.57016999618618\n",
      "x=8.888319755052256\n",
      "x=8.664756774481155\n",
      "x=8.662482362530382\n",
      "x=8.662482119217621\n",
      "the root is 8.662482119217621 with value -1.7763568394002505e-15, required 5 steps\n",
      "completed\n"
     ]
    }
   ],
   "source": [
    "import math\n",
    "def f(x):\n",
    "    return (2.0*math.log(1+x**2)-x)\n",
    "def f_prime(x):\n",
    "    return((4.0*x)/(x**2+1)-1)\n",
    "N=200\n",
    "tol=0.00005\n",
    "x_0=5\n",
    "counter=0\n",
    "for j in range(N+1):\n",
    "    counter=counter+1\n",
    "    x=x_0-f(x_0)/f_prime(x_0)\n",
    "    print(\"x={}\".format(x))\n",
    "    if math.fabs(x-x_0)<tol:\n",
    "        print(\"the root is {} with value {}, required {} steps\".format(x,f(x),counter))\n",
    "        break\n",
    "    x_0=x\n",
    "print(\"completed\")"
   ]
  },
  {
   "cell_type": "code",
   "execution_count": null,
   "metadata": {},
   "outputs": [],
   "source": []
  }
 ],
 "metadata": {
  "kernelspec": {
   "display_name": "Python 3",
   "language": "python",
   "name": "python3"
  },
  "language_info": {
   "codemirror_mode": {
    "name": "ipython",
    "version": 3
   },
   "file_extension": ".py",
   "mimetype": "text/x-python",
   "name": "python",
   "nbconvert_exporter": "python",
   "pygments_lexer": "ipython3",
   "version": "3.8.5"
  }
 },
 "nbformat": 4,
 "nbformat_minor": 2
}
