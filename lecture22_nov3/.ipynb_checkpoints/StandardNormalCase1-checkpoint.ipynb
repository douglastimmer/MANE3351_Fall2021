{
 "cells": [
  {
   "cell_type": "markdown",
   "metadata": {},
   "source": [
    "# Standard Normal Case 1\n",
    "This application calculates the probability $P(Z<a)$ for the standard normal distribution."
   ]
  },
  {
   "cell_type": "code",
   "execution_count": 14,
   "metadata": {},
   "outputs": [
    {
     "data": {
      "image/png": "[encoded data removed]",
      "text/plain": [
       "<Figure size 432x288 with 1 Axes>"
      ]
     },
     "metadata": {
      "needs_background": "light"
     },
     "output_type": "display_data"
    },
    {
     "name": "stdout",
     "output_type": "stream",
     "text": [
      "0.691462\n"
     ]
    }
   ],
   "source": [
    "import matplotlib.pyplot as plt\n",
    "import numpy as np\n",
    "import scipy.stats as sct\n",
    "import math\n",
    "\n",
    "a=0.5\n",
    "\n",
    "x=np.linspace(-4,4,500)\n",
    "y=sct.norm.pdf(x,0,1)\n",
    "y2=0.0*x\n",
    "maske =(x<a)\n",
    "\n",
    "plt.plot(x,y,'m')\n",
    "plt.fill_between(x,y,color='#500000',where=maske)\n",
    "plt.plot(x,y2,'m')\n",
    "plt.show()\n",
    "\n",
    "answer=sct.norm.cdf(a,0,1)\n",
    "print (\"%8.6f\" % (answer))"
   ]
  },
  {
   "cell_type": "code",
   "execution_count": 5,
   "metadata": {},
   "outputs": [
    {
     "name": "stdout",
     "output_type": "stream",
     "text": [
      "-1.0\n"
     ]
    }
   ],
   "source": [
    "import math\n",
    "def f(x,l):\n",
    "    if x>0 and l>0:\n",
    "            return l*math.exp(-1.0*l*x)\n",
    "    else:\n",
    "        return -1.0\n",
    "print(f(2,-3))        "
   ]
  },
  {
   "cell_type": "code",
   "execution_count": 6,
   "metadata": {},
   "outputs": [
    {
     "name": "stdout",
     "output_type": "stream",
     "text": [
      "Invalid input values\n"
     ]
    }
   ],
   "source": [
    "x=2\n",
    "l=-3\n",
    "if (x>0 and l>0):\n",
    "    f(x,l)\n",
    "else:\n",
    "    print(\"Invalid input values\")"
   ]
  },
  {
   "cell_type": "code",
   "execution_count": null,
   "metadata": {},
   "outputs": [],
   "source": []
  }
 ],
 "metadata": {
  "kernelspec": {
   "display_name": "Python 3",
   "language": "python",
   "name": "python3"
  },
  "language_info": {
   "codemirror_mode": {
    "name": "ipython",
    "version": 3
   },
   "file_extension": ".py",
   "mimetype": "text/x-python",
   "name": "python",
   "nbconvert_exporter": "python",
   "pygments_lexer": "ipython3",
   "version": "3.8.5"
  }
 },
 "nbformat": 4,
 "nbformat_minor": 2
}
